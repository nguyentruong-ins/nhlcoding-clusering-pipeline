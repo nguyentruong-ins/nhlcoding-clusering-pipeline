{
 "cells": [
  {
   "cell_type": "code",
   "execution_count": 1,
   "metadata": {},
   "outputs": [],
   "source": [
    "import pandas as pd\n",
    "import os"
   ]
  },
  {
   "cell_type": "code",
   "execution_count": 2,
   "metadata": {},
   "outputs": [
    {
     "name": "stdout",
     "output_type": "stream",
     "text": [
      "/Users/nguyentruong/NguyenTruong/Study/LVTN/Codes/nhlcoding-clustering-pipeline/test_files\n"
     ]
    }
   ],
   "source": [
    "print(os.getcwd())"
   ]
  },
  {
   "cell_type": "code",
   "execution_count": 3,
   "metadata": {},
   "outputs": [],
   "source": [
    "df = pd.read_csv(\"../csv/sample_data_v5.csv\")"
   ]
  },
  {
   "cell_type": "code",
   "execution_count": 4,
   "metadata": {},
   "outputs": [
    {
     "data": {
      "text/html": [
       "<div>\n",
       "<style scoped>\n",
       "    .dataframe tbody tr th:only-of-type {\n",
       "        vertical-align: middle;\n",
       "    }\n",
       "\n",
       "    .dataframe tbody tr th {\n",
       "        vertical-align: top;\n",
       "    }\n",
       "\n",
       "    .dataframe thead th {\n",
       "        text-align: right;\n",
       "    }\n",
       "</style>\n",
       "<table border=\"1\" class=\"dataframe\">\n",
       "  <thead>\n",
       "    <tr style=\"text-align: right;\">\n",
       "      <th></th>\n",
       "      <th>problem_slug</th>\n",
       "      <th>submission_id</th>\n",
       "      <th>student_code</th>\n",
       "      <th>code</th>\n",
       "      <th>score</th>\n",
       "    </tr>\n",
       "  </thead>\n",
       "  <tbody>\n",
       "    <tr>\n",
       "      <th>0</th>\n",
       "      <td>Array_list_1</td>\n",
       "      <td>1290686</td>\n",
       "      <td>2110501</td>\n",
       "      <td>int buyCar(int* nums, int length, int k) \\n{\\n...</td>\n",
       "      <td>1.0</td>\n",
       "    </tr>\n",
       "    <tr>\n",
       "      <th>1</th>\n",
       "      <td>Array_list_2</td>\n",
       "      <td>1290686</td>\n",
       "      <td>2110501</td>\n",
       "      <td>bool consecutiveOnes(vector&lt;int&gt;&amp; nums) {\\n   ...</td>\n",
       "      <td>1.0</td>\n",
       "    </tr>\n",
       "    <tr>\n",
       "      <th>2</th>\n",
       "      <td>Array_list_3</td>\n",
       "      <td>1290686</td>\n",
       "      <td>2110501</td>\n",
       "      <td>bool consecutiveOnes(vector&lt;int&gt;&amp; nums) {\\n   ...</td>\n",
       "      <td>1.0</td>\n",
       "    </tr>\n",
       "    <tr>\n",
       "      <th>3</th>\n",
       "      <td>Array_list_4</td>\n",
       "      <td>1290686</td>\n",
       "      <td>2110501</td>\n",
       "      <td>bool consecutiveOnes(vector&lt;int&gt;&amp; nums) {\\n   ...</td>\n",
       "      <td>1.0</td>\n",
       "    </tr>\n",
       "    <tr>\n",
       "      <th>4</th>\n",
       "      <td>Array_list_5</td>\n",
       "      <td>1290686</td>\n",
       "      <td>2110501</td>\n",
       "      <td>int equalSumIndex(vector&lt;int&gt;&amp; nums) {\\n    //...</td>\n",
       "      <td>1.0</td>\n",
       "    </tr>\n",
       "  </tbody>\n",
       "</table>\n",
       "</div>"
      ],
      "text/plain": [
       "   problem_slug  submission_id student_code  \\\n",
       "0  Array_list_1        1290686      2110501   \n",
       "1  Array_list_2        1290686      2110501   \n",
       "2  Array_list_3        1290686      2110501   \n",
       "3  Array_list_4        1290686      2110501   \n",
       "4  Array_list_5        1290686      2110501   \n",
       "\n",
       "                                                code  score  \n",
       "0  int buyCar(int* nums, int length, int k) \\n{\\n...    1.0  \n",
       "1  bool consecutiveOnes(vector<int>& nums) {\\n   ...    1.0  \n",
       "2  bool consecutiveOnes(vector<int>& nums) {\\n   ...    1.0  \n",
       "3  bool consecutiveOnes(vector<int>& nums) {\\n   ...    1.0  \n",
       "4  int equalSumIndex(vector<int>& nums) {\\n    //...    1.0  "
      ]
     },
     "execution_count": 4,
     "metadata": {},
     "output_type": "execute_result"
    }
   ],
   "source": [
    "df.head()"
   ]
  },
  {
   "cell_type": "code",
   "execution_count": 13,
   "metadata": {},
   "outputs": [],
   "source": [
    "filtered_df = df[(df['problem_slug'] == \"Recursion_17\") & df['score'] == 1] "
   ]
  },
  {
   "cell_type": "code",
   "execution_count": 14,
   "metadata": {},
   "outputs": [
    {
     "data": {
      "text/plain": [
       "(40, 5)"
      ]
     },
     "execution_count": 14,
     "metadata": {},
     "output_type": "execute_result"
    }
   ],
   "source": [
    "filtered_df.shape"
   ]
  },
  {
   "cell_type": "code",
   "execution_count": 10,
   "metadata": {},
   "outputs": [
    {
     "data": {
      "text/html": [
       "<div>\n",
       "<style scoped>\n",
       "    .dataframe tbody tr th:only-of-type {\n",
       "        vertical-align: middle;\n",
       "    }\n",
       "\n",
       "    .dataframe tbody tr th {\n",
       "        vertical-align: top;\n",
       "    }\n",
       "\n",
       "    .dataframe thead th {\n",
       "        text-align: right;\n",
       "    }\n",
       "</style>\n",
       "<table border=\"1\" class=\"dataframe\">\n",
       "  <thead>\n",
       "    <tr style=\"text-align: right;\">\n",
       "      <th></th>\n",
       "      <th>problem_slug</th>\n",
       "      <th>submission_id</th>\n",
       "      <th>student_code</th>\n",
       "      <th>code</th>\n",
       "      <th>score</th>\n",
       "    </tr>\n",
       "  </thead>\n",
       "  <tbody>\n",
       "    <tr>\n",
       "      <th>3535</th>\n",
       "      <td>Queue_7</td>\n",
       "      <td>1454688</td>\n",
       "      <td>2110501</td>\n",
       "      <td>int numberOfTheWinner(int N, int k) {\\n    int...</td>\n",
       "      <td>1.0</td>\n",
       "    </tr>\n",
       "    <tr>\n",
       "      <th>3544</th>\n",
       "      <td>Queue_7</td>\n",
       "      <td>1455292</td>\n",
       "      <td>2211876</td>\n",
       "      <td>int numberOfTheWinner(int N, int k) {\\n    if ...</td>\n",
       "      <td>1.0</td>\n",
       "    </tr>\n",
       "    <tr>\n",
       "      <th>3553</th>\n",
       "      <td>Queue_7</td>\n",
       "      <td>1455293</td>\n",
       "      <td>2213298</td>\n",
       "      <td>// iostream and queue are included\\n// Hint: U...</td>\n",
       "      <td>1.0</td>\n",
       "    </tr>\n",
       "    <tr>\n",
       "      <th>3562</th>\n",
       "      <td>Queue_7</td>\n",
       "      <td>1455294</td>\n",
       "      <td>2210578</td>\n",
       "      <td>int numberOfTheWinner(int N, int k) {\\n   queu...</td>\n",
       "      <td>1.0</td>\n",
       "    </tr>\n",
       "    <tr>\n",
       "      <th>3571</th>\n",
       "      <td>Queue_7</td>\n",
       "      <td>1455295</td>\n",
       "      <td>2112585</td>\n",
       "      <td>int numberOfTheWinner(int n, int k) {\\n    que...</td>\n",
       "      <td>1.0</td>\n",
       "    </tr>\n",
       "    <tr>\n",
       "      <th>3580</th>\n",
       "      <td>Queue_7</td>\n",
       "      <td>1455299</td>\n",
       "      <td>2213035</td>\n",
       "      <td>int numberOfTheWinner(int N, int k) {\\n    que...</td>\n",
       "      <td>1.0</td>\n",
       "    </tr>\n",
       "    <tr>\n",
       "      <th>3596</th>\n",
       "      <td>Queue_7</td>\n",
       "      <td>1455301</td>\n",
       "      <td>2212282</td>\n",
       "      <td>int numberOfTheWinner(int N, int k) {\\n    std...</td>\n",
       "      <td>1.0</td>\n",
       "    </tr>\n",
       "    <tr>\n",
       "      <th>3605</th>\n",
       "      <td>Queue_7</td>\n",
       "      <td>1455312</td>\n",
       "      <td>2212372</td>\n",
       "      <td>int numberOfTheWinner(int N, int k) {\\n    que...</td>\n",
       "      <td>1.0</td>\n",
       "    </tr>\n",
       "    <tr>\n",
       "      <th>3616</th>\n",
       "      <td>Queue_7</td>\n",
       "      <td>1455315</td>\n",
       "      <td>2212935</td>\n",
       "      <td>int numberOfTheWinner(int N, int k) {\\n    que...</td>\n",
       "      <td>1.0</td>\n",
       "    </tr>\n",
       "    <tr>\n",
       "      <th>3625</th>\n",
       "      <td>Queue_7</td>\n",
       "      <td>1455318</td>\n",
       "      <td>2213250</td>\n",
       "      <td>int numberOfTheWinner(int N, int k) {\\n    que...</td>\n",
       "      <td>1.0</td>\n",
       "    </tr>\n",
       "  </tbody>\n",
       "</table>\n",
       "</div>"
      ],
      "text/plain": [
       "     problem_slug  submission_id student_code  \\\n",
       "3535      Queue_7        1454688      2110501   \n",
       "3544      Queue_7        1455292      2211876   \n",
       "3553      Queue_7        1455293      2213298   \n",
       "3562      Queue_7        1455294      2210578   \n",
       "3571      Queue_7        1455295      2112585   \n",
       "3580      Queue_7        1455299      2213035   \n",
       "3596      Queue_7        1455301      2212282   \n",
       "3605      Queue_7        1455312      2212372   \n",
       "3616      Queue_7        1455315      2212935   \n",
       "3625      Queue_7        1455318      2213250   \n",
       "\n",
       "                                                   code  score  \n",
       "3535  int numberOfTheWinner(int N, int k) {\\n    int...    1.0  \n",
       "3544  int numberOfTheWinner(int N, int k) {\\n    if ...    1.0  \n",
       "3553  // iostream and queue are included\\n// Hint: U...    1.0  \n",
       "3562  int numberOfTheWinner(int N, int k) {\\n   queu...    1.0  \n",
       "3571  int numberOfTheWinner(int n, int k) {\\n    que...    1.0  \n",
       "3580  int numberOfTheWinner(int N, int k) {\\n    que...    1.0  \n",
       "3596  int numberOfTheWinner(int N, int k) {\\n    std...    1.0  \n",
       "3605  int numberOfTheWinner(int N, int k) {\\n    que...    1.0  \n",
       "3616  int numberOfTheWinner(int N, int k) {\\n    que...    1.0  \n",
       "3625  int numberOfTheWinner(int N, int k) {\\n    que...    1.0  "
      ]
     },
     "execution_count": 10,
     "metadata": {},
     "output_type": "execute_result"
    }
   ],
   "source": [
    "filtered_df.head(10)"
   ]
  },
  {
   "cell_type": "code",
   "execution_count": 15,
   "metadata": {},
   "outputs": [],
   "source": [
    "filtered_df.to_csv(\"../csv/recursion_17.csv\")"
   ]
  },
  {
   "cell_type": "markdown",
   "metadata": {},
   "source": [
    "# Test"
   ]
  },
  {
   "cell_type": "code",
   "execution_count": 2,
   "metadata": {},
   "outputs": [
    {
     "data": {
      "image/png": "[encoded data removed]",
      "text/plain": [
       "<Figure size 640x480 with 1 Axes>"
      ]
     },
     "metadata": {},
     "output_type": "display_data"
    }
   ],
   "source": [
    "import matplotlib.pyplot as plt\n",
    "import numpy as np; np.random.seed(1)\n",
    "\n",
    "x = np.random.rand(15)\n",
    "y = np.random.rand(15)\n",
    "names = np.array(list(\"ABCDEFGHIJKLMNO\"))\n",
    "c = np.random.randint(1,5,size=15)\n",
    "\n",
    "norm = plt.Normalize(1,4)\n",
    "cmap = plt.cm.RdYlGn\n",
    "\n",
    "fig,ax = plt.subplots()\n",
    "sc = plt.scatter(x,y,c=c, s=100, cmap=cmap, norm=norm)\n",
    "\n",
    "annot = ax.annotate(\"\", xy=(0,0), xytext=(20,20),textcoords=\"offset points\",\n",
    "                    bbox=dict(boxstyle=\"round\", fc=\"w\"),\n",
    "                    arrowprops=dict(arrowstyle=\"->\"))\n",
    "annot.set_visible(False)\n",
    "\n",
    "def update_annot(ind):\n",
    "    \n",
    "    pos = sc.get_offsets()[ind[\"ind\"][0]]\n",
    "    annot.xy = pos\n",
    "    text = \"{}, {}\".format(\" \".join(list(map(str,ind[\"ind\"]))), \n",
    "                           \" \".join([names[n] for n in ind[\"ind\"]]))\n",
    "    annot.set_text(text)\n",
    "    annot.get_bbox_patch().set_facecolor(cmap(norm(c[ind[\"ind\"][0]])))\n",
    "    annot.get_bbox_patch().set_alpha(0.4)\n",
    "    \n",
    "\n",
    "def hover(event):\n",
    "    vis = annot.get_visible()\n",
    "    if event.inaxes == ax:\n",
    "        cont, ind = sc.contains(event)\n",
    "        if cont:\n",
    "            update_annot(ind)\n",
    "            annot.set_visible(True)\n",
    "            fig.canvas.draw_idle()\n",
    "        else:\n",
    "            if vis:\n",
    "                annot.set_visible(False)\n",
    "                fig.canvas.draw_idle()\n",
    "\n",
    "fig.canvas.mpl_connect(\"motion_notify_event\", hover)\n",
    "\n",
    "plt.show()"
   ]
  }
 ],
 "metadata": {
  "kernelspec": {
   "display_name": ".venv",
   "language": "python",
   "name": "python3"
  },
  "language_info": {
   "codemirror_mode": {
    "name": "ipython",
    "version": 3
   },
   "file_extension": ".py",
   "mimetype": "text/x-python",
   "name": "python",
   "nbconvert_exporter": "python",
   "pygments_lexer": "ipython3",
   "version": "3.9.6"
  }
 },
 "nbformat": 4,
 "nbformat_minor": 2
}
